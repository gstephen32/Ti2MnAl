{
 "cells": [
  {
   "cell_type": "code",
   "execution_count": 60,
   "metadata": {
    "collapsed": false
   },
   "outputs": [],
   "source": [
    "%matplotlib inline\n",
    "import numpy as np\n",
    "from matplotlib import pyplot\n",
    "f=open('Ti2MnAl.bands.pw.txt','r')\n",
    "data= f.readlines()\n",
    "data= data[2243:]\n",
    "\n",
    "row=-1\n",
    "col=0\n",
    "nks=351\n",
    "nbands=150\n",
    "bands=np.zeros((nks,nbands+4))\n",
    "for ii in range(len(data)):\n",
    "    data[ii]\n",
    "    data[ii]=data[ii].strip().split()\n",
    "\n",
    "data = [x for x in data if x!=[]]\n",
    "\n",
    "for ii in range(len(data)):\n",
    "    p=data[ii]\n",
    "    if p[0]=='k':\n",
    "        \n",
    "#        col=0\n",
    "#        row +=1\n",
    "#        bands[row,0]=row\n",
    "#        col +=1\n",
    "#        for n in range(1,4):\n",
    "#            bands[row,col]=float(p[n-1])\n",
    "#            col+=1\n",
    "            \n",
    "#    else:\n",
    "#        for n in range(len(p)):\n",
    "#            bands[row,col]=float(p[n])\n",
    "#            col+=1\n",
    "\n",
    "#pyplot.plot(bands[:,4:])\n",
    "    \n",
    "    \n"
   ]
  },
  {
   "cell_type": "code",
   "execution_count": null,
   "metadata": {
    "collapsed": true
   },
   "outputs": [],
   "source": []
  },
  {
   "cell_type": "code",
   "execution_count": null,
   "metadata": {
    "collapsed": true
   },
   "outputs": [],
   "source": []
  },
  {
   "cell_type": "code",
   "execution_count": null,
   "metadata": {
    "collapsed": true
   },
   "outputs": [],
   "source": []
  },
  {
   "cell_type": "code",
   "execution_count": null,
   "metadata": {
    "collapsed": true
   },
   "outputs": [],
   "source": []
  }
 ],
 "metadata": {
  "kernelspec": {
   "display_name": "Python 2",
   "language": "python",
   "name": "python2"
  },
  "language_info": {
   "codemirror_mode": {
    "name": "ipython",
    "version": 2
   },
   "file_extension": ".py",
   "mimetype": "text/x-python",
   "name": "python",
   "nbconvert_exporter": "python",
   "pygments_lexer": "ipython2",
   "version": "2.7.10"
  }
 },
 "nbformat": 4,
 "nbformat_minor": 0
}
