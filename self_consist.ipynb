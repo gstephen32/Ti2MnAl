{
 "cells": [
  {
   "cell_type": "code",
   "execution_count": null,
   "metadata": {
    "collapsed": true
   },
   "outputs": [],
   "source": [
    "#initialize ni\n",
    "#initialize \n",
    "N=100\n",
    "n=np.zeros(N)\n",
    "\n",
    "delta=100\n",
    "tol=1E-6\n",
    "while delta>=tol\n",
    "    mu=chempot(n)\n",
    "    n_new=occupation(mu,n)\n",
    "    for ii in range(N):\n",
    "        temp=n[ii]-n_new[ii]\n",
    "        if temp<delta:\n",
    "            delta=temp\n",
    "    \n",
    "    break\n",
    "\n",
    "    \n",
    "def chempot(n):\n",
    "    U=1.\n",
    "    mu=0\n",
    "    return mu\n",
    "\n",
    "def occupation(mu,n):\n",
    "    n=np.zeros(len(n))\n",
    "    return n"
   ]
  }
 ],
 "metadata": {
  "kernelspec": {
   "display_name": "Python 2",
   "language": "python",
   "name": "python2"
  },
  "language_info": {
   "codemirror_mode": {
    "name": "ipython",
    "version": 2
   },
   "file_extension": ".py",
   "mimetype": "text/x-python",
   "name": "python",
   "nbconvert_exporter": "python",
   "pygments_lexer": "ipython2",
   "version": "2.7.10"
  }
 },
 "nbformat": 4,
 "nbformat_minor": 0
}
